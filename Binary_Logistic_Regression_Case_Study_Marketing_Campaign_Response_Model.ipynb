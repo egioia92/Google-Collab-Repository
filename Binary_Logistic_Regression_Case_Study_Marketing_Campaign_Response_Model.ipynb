{
  "nbformat": 4,
  "nbformat_minor": 0,
  "metadata": {
    "colab": {
      "provenance": [],
      "authorship_tag": "ABX9TyOxwPEwGpm3rEed5rDeGz8b",
      "include_colab_link": true
    },
    "kernelspec": {
      "name": "ir",
      "display_name": "R"
    },
    "language_info": {
      "name": "R"
    }
  },
  "cells": [
    {
      "cell_type": "markdown",
      "metadata": {
        "id": "view-in-github",
        "colab_type": "text"
      },
      "source": [
        "<a href=\"https://colab.research.google.com/github/egioia92/Google-Collab-Repository/blob/main/Binary_Logistic_Regression_Case_Study_Marketing_Campaign_Response_Model.ipynb\" target=\"_parent\"><img src=\"https://colab.research.google.com/assets/colab-badge.svg\" alt=\"Open In Colab\"/></a>"
      ]
    },
    {
      "cell_type": "markdown",
      "source": [
        "#Marketing Campaign Response Model\n",
        "\n",
        "##Background\n",
        "A large skin-clinic offers a variety of products and services to customers. A marketing campaign was launched for introducing a new product.\n",
        "\n",
        "##Data\n",
        "The data shows response to the marketing campaign alongwith demographic and transaction data of customers.\n",
        "\n",
        "##Objective\n",
        "The objective is to identify factors driving response to the marketing campaign.\n",
        "\n",
        "( We want to understand if customers are responding succesfully to the marketing campaign and what are the variables contributing to its success )"
      ],
      "metadata": {
        "id": "vHAqUiiVwzsg"
      }
    },
    {
      "cell_type": "markdown",
      "source": [
        "###Import datasets and create masterdata"
      ],
      "metadata": {
        "id": "af783KmvabN0"
      }
    },
    {
      "cell_type": "code",
      "source": [
        "purchase_data1<-read.csv(\"/content/Purchase Data 1.csv\",header=T)\n",
        "purchase_data2<-read.csv(\"/content/Purchase Data 2.csv\",header=T)\n",
        "response_data<-read.csv(\"/content/Response Data.csv\",header=T)\n",
        "\n",
        "str(purchase_data1)\n",
        "str(purchase_data2)\n",
        "str(response_data)"
      ],
      "metadata": {
        "colab": {
          "base_uri": "https://localhost:8080/"
        },
        "id": "MhMnXrpnxx5o",
        "outputId": "29628c16-b916-47af-e637-caf8ff20ce5b"
      },
      "execution_count": 65,
      "outputs": [
        {
          "output_type": "stream",
          "name": "stdout",
          "text": [
            "'data.frame':\t6990 obs. of  4 variables:\n",
            " $ Custid    : int  1 2 3 4 5 6 7 8 9 10 ...\n",
            " $ Pre_Month : int  2 1 1 2 1 2 2 2 2 1 ...\n",
            " $ N_Products: int  15 22 17 18 31 28 12 21 30 32 ...\n",
            " $ N_Service : int  24 29 21 22 35 31 26 24 32 23 ...\n",
            "'data.frame':\t6990 obs. of  4 variables:\n",
            " $ Custid   : int  1 2 3 4 5 6 7 8 9 10 ...\n",
            " $ BillAmt_1: num  12.34 18.65 7.22 6.15 20.64 ...\n",
            " $ BillAmt_2: num  13.26 2.12 3.31 2.95 2.67 ...\n",
            " $ BillAmt_3: num  5.88 5.13 3.65 2.34 4.07 ...\n",
            "'data.frame':\t6990 obs. of  5 variables:\n",
            " $ Custid  : int  1 2 3 4 5 6 7 8 9 10 ...\n",
            " $ Age     : int  2 2 1 2 2 1 2 1 2 2 ...\n",
            " $ Gender  : int  1 2 1 1 2 2 1 2 1 1 ...\n",
            " $ MS      : int  2 1 2 1 1 1 2 1 2 2 ...\n",
            " $ Response: int  1 0 0 0 0 0 0 0 0 0 ...\n"
          ]
        }
      ]
    },
    {
      "cell_type": "markdown",
      "source": [
        "### Merging the datasets\n",
        "\n",
        "This code performs a series of left merges on a list of data frames (`response_data`, `purchase_data1`, and `purchase_data2`) based on a common key column named `Custid`. Here’s a step-by-step breakdown of what the code does:\n",
        "\n",
        "1. **`list(response_data, purchase_data1, purchase_data2)`**:\n",
        "    - This creates a list containing three data frames: `response_data`, `purchase_data1`, and `purchase_data2`.\n",
        "\n",
        "2. **`Reduce(function(df1, df2) merge(df1, df2, by = \"Custid\", all.x = TRUE), ...)`**:\n",
        "    - `Reduce` is a function that applies a binary function (in this case, the `merge` function) cumulatively to the elements of a list, from left to right, reducing the list to a single output.\n",
        "    - `function(df1, df2) merge(df1, df2, by = Cust, all.x = TRUE)` is an anonymous function (a function without a name) that takes two arguments, `df1` and `df2`, and merges them using the `merge` function.\n",
        "    - `merge(df1, df2, by = Cust, all.x = TRUE)` performs a left join (because of `all.x = TRUE`), meaning all rows from `df1` are kept, and only matching rows from `df2` are included. If there are no matches, the result will have `NA` for columns from `df2`.\n",
        "\n",
        "3. **Applying `Reduce`**:\n",
        "    - The `Reduce` function starts with the first two data frames in the list (`response_data` and `purchase_data1`), merges them, and then takes the result and merges it with the next data frame (`purchase_data2`).\n",
        "    - This process continues until all data frames in the list are merged into a single data frame.\n",
        "\n",
        "4. **`masterdata <- ...`**:\n",
        "    - The final result of the `Reduce` operation is assigned to the variable `masterdata`.\n",
        "\n",
        "### Summary:\n",
        "\n",
        "- **Purpose**: The code performs sequential left joins of multiple data frames based on the `Custid` column.\n",
        "- **Result**: `masterdata` contains all the rows from `response_data` and includes the corresponding rows from `purchase_data1` and `purchase_data2` where matches are found on `Custid`. If no match is found in the subsequent data frames, the resulting columns will contain `NA`.\n"
      ],
      "metadata": {
        "id": "9d-qeeGHbPJW"
      }
    },
    {
      "cell_type": "code",
      "source": [
        "# merging the datasets using the reduce function in the dplyr library\n",
        "library(dplyr)\n",
        "\n",
        "masterdata<-Reduce( function(df1,df2) merge(df1,df2, by = \"Custid\", all.x = TRUE), list(response_data,purchase_data1,purchase_data2) )\n",
        "head(masterdata)\n",
        "\n",
        "# Another way to do it (step by step)\n",
        "#masterdata<-full_join(response_data,purchase_data1,by=\"Custid\")\n",
        "#masterdata<-full_join(masterdata,purchase_data2,by=\"Custid\")"
      ],
      "metadata": {
        "colab": {
          "base_uri": "https://localhost:8080/",
          "height": 286
        },
        "id": "blAjDo0jx-Bs",
        "outputId": "1edc690f-4387-4ee9-914b-123d33f471ee"
      },
      "execution_count": 56,
      "outputs": [
        {
          "output_type": "display_data",
          "data": {
            "text/html": [
              "<table class=\"dataframe\">\n",
              "<caption>A data.frame: 6 × 11</caption>\n",
              "<thead>\n",
              "\t<tr><th></th><th scope=col>Custid</th><th scope=col>Age</th><th scope=col>Gender</th><th scope=col>MS</th><th scope=col>Response</th><th scope=col>Pre_Month</th><th scope=col>N_Products</th><th scope=col>N_Service</th><th scope=col>BillAmt_1</th><th scope=col>BillAmt_2</th><th scope=col>BillAmt_3</th></tr>\n",
              "\t<tr><th></th><th scope=col>&lt;int&gt;</th><th scope=col>&lt;int&gt;</th><th scope=col>&lt;int&gt;</th><th scope=col>&lt;int&gt;</th><th scope=col>&lt;int&gt;</th><th scope=col>&lt;int&gt;</th><th scope=col>&lt;int&gt;</th><th scope=col>&lt;int&gt;</th><th scope=col>&lt;dbl&gt;</th><th scope=col>&lt;dbl&gt;</th><th scope=col>&lt;dbl&gt;</th></tr>\n",
              "</thead>\n",
              "<tbody>\n",
              "\t<tr><th scope=row>1</th><td>1</td><td>2</td><td>1</td><td>2</td><td>1</td><td>2</td><td>15</td><td>24</td><td>12.34</td><td>13.26</td><td>5.88</td></tr>\n",
              "\t<tr><th scope=row>2</th><td>2</td><td>2</td><td>2</td><td>1</td><td>0</td><td>1</td><td>22</td><td>29</td><td>18.65</td><td> 2.12</td><td>5.13</td></tr>\n",
              "\t<tr><th scope=row>3</th><td>3</td><td>1</td><td>1</td><td>2</td><td>0</td><td>1</td><td>17</td><td>21</td><td> 7.22</td><td> 3.31</td><td>3.65</td></tr>\n",
              "\t<tr><th scope=row>4</th><td>4</td><td>2</td><td>1</td><td>1</td><td>0</td><td>2</td><td>18</td><td>22</td><td> 6.15</td><td> 2.95</td><td>2.34</td></tr>\n",
              "\t<tr><th scope=row>5</th><td>5</td><td>2</td><td>2</td><td>1</td><td>0</td><td>1</td><td>31</td><td>35</td><td>20.64</td><td> 2.67</td><td>4.07</td></tr>\n",
              "\t<tr><th scope=row>6</th><td>6</td><td>1</td><td>2</td><td>1</td><td>0</td><td>2</td><td>28</td><td>31</td><td>12.44</td><td> 3.06</td><td>2.57</td></tr>\n",
              "</tbody>\n",
              "</table>\n"
            ],
            "text/markdown": "\nA data.frame: 6 × 11\n\n| <!--/--> | Custid &lt;int&gt; | Age &lt;int&gt; | Gender &lt;int&gt; | MS &lt;int&gt; | Response &lt;int&gt; | Pre_Month &lt;int&gt; | N_Products &lt;int&gt; | N_Service &lt;int&gt; | BillAmt_1 &lt;dbl&gt; | BillAmt_2 &lt;dbl&gt; | BillAmt_3 &lt;dbl&gt; |\n|---|---|---|---|---|---|---|---|---|---|---|---|\n| 1 | 1 | 2 | 1 | 2 | 1 | 2 | 15 | 24 | 12.34 | 13.26 | 5.88 |\n| 2 | 2 | 2 | 2 | 1 | 0 | 1 | 22 | 29 | 18.65 |  2.12 | 5.13 |\n| 3 | 3 | 1 | 1 | 2 | 0 | 1 | 17 | 21 |  7.22 |  3.31 | 3.65 |\n| 4 | 4 | 2 | 1 | 1 | 0 | 2 | 18 | 22 |  6.15 |  2.95 | 2.34 |\n| 5 | 5 | 2 | 2 | 1 | 0 | 1 | 31 | 35 | 20.64 |  2.67 | 4.07 |\n| 6 | 6 | 1 | 2 | 1 | 0 | 2 | 28 | 31 | 12.44 |  3.06 | 2.57 |\n\n",
            "text/latex": "A data.frame: 6 × 11\n\\begin{tabular}{r|lllllllllll}\n  & Custid & Age & Gender & MS & Response & Pre\\_Month & N\\_Products & N\\_Service & BillAmt\\_1 & BillAmt\\_2 & BillAmt\\_3\\\\\n  & <int> & <int> & <int> & <int> & <int> & <int> & <int> & <int> & <dbl> & <dbl> & <dbl>\\\\\n\\hline\n\t1 & 1 & 2 & 1 & 2 & 1 & 2 & 15 & 24 & 12.34 & 13.26 & 5.88\\\\\n\t2 & 2 & 2 & 2 & 1 & 0 & 1 & 22 & 29 & 18.65 &  2.12 & 5.13\\\\\n\t3 & 3 & 1 & 1 & 2 & 0 & 1 & 17 & 21 &  7.22 &  3.31 & 3.65\\\\\n\t4 & 4 & 2 & 1 & 1 & 0 & 2 & 18 & 22 &  6.15 &  2.95 & 2.34\\\\\n\t5 & 5 & 2 & 2 & 1 & 0 & 1 & 31 & 35 & 20.64 &  2.67 & 4.07\\\\\n\t6 & 6 & 1 & 2 & 1 & 0 & 2 & 28 & 31 & 12.44 &  3.06 & 2.57\\\\\n\\end{tabular}\n",
            "text/plain": [
              "  Custid Age Gender MS Response Pre_Month N_Products N_Service BillAmt_1\n",
              "1 1      2   1      2  1        2         15         24        12.34    \n",
              "2 2      2   2      1  0        1         22         29        18.65    \n",
              "3 3      1   1      2  0        1         17         21         7.22    \n",
              "4 4      2   1      1  0        2         18         22         6.15    \n",
              "5 5      2   2      1  0        1         31         35        20.64    \n",
              "6 6      1   2      1  0        2         28         31        12.44    \n",
              "  BillAmt_2 BillAmt_3\n",
              "1 13.26     5.88     \n",
              "2  2.12     5.13     \n",
              "3  3.31     3.65     \n",
              "4  2.95     2.34     \n",
              "5  2.67     4.07     \n",
              "6  3.06     2.57     "
            ]
          },
          "metadata": {}
        }
      ]
    },
    {
      "cell_type": "markdown",
      "source": [
        "###Convert numerically coded categorical variables into “factors”\n",
        "\n",
        "This line of code converts the `Age` column in the `masterdata` data frame from its current data type (likely numeric or integer) to a factor (categorical variable). Here's a detailed explanation of what this code does and why it might be used:\n",
        "\n",
        "### Code Explanation:\n",
        "```r\n",
        "masterdata$Age <- as.factor(masterdata$Age)\n",
        "```\n",
        "\n",
        "1. **`masterdata$Age`**:\n",
        "    - Accesses the `Age` column in the `masterdata` data frame.\n",
        "\n",
        "2. **`as.factor(masterdata$Age)`**:\n",
        "    - The `as.factor` function converts the `Age` column to a factor. A factor in R is used to represent categorical data and can store both integer values and their corresponding labels (levels).\n",
        "\n",
        "3. **Assignment**:\n",
        "    - The converted factor is then assigned back to the `Age` column in the `masterdata` data frame.\n",
        "\n",
        "### Why Use This Code:\n",
        "1. **Categorical Analysis**:\n",
        "    - If `Age` represents categories (such as age groups) rather than continuous numeric values, converting it to a factor allows for appropriate statistical analysis and visualization. For example, age ranges like \"0-18\", \"19-35\", \"36-50\", etc., are categorical and should be treated as factors.\n",
        "\n",
        "2. **Modeling**:\n",
        "    - In many statistical models and machine learning algorithms, categorical variables need to be encoded as factors to be correctly interpreted by the model. This helps in understanding the impact of different categories on the outcome variable.\n",
        "\n",
        "3. **Memory Efficiency**:\n",
        "    - Factors can be more memory efficient for storing categorical data compared to storing them as characters or integers, especially when there are many repeated values.\n",
        "\n",
        "4. **Data Integrity**:\n",
        "    - Converting `Age` to a factor can prevent incorrect numerical operations (like mean or sum) that do not make sense for categorical data."
      ],
      "metadata": {
        "id": "zumPxA4Wa_vz"
      }
    },
    {
      "cell_type": "code",
      "source": [
        "# converting all categorical variables to factor\n",
        "# ( The integer that represents the categorarigal variables are there to represent a category)\n",
        "masterdata$Age<-as.factor(masterdata$Age)\n",
        "masterdata$Gender<-as.factor(masterdata$Gender)\n",
        "masterdata$MS<-as.factor(masterdata$MS)\n",
        "masterdata$Pre_Month<-as.factor(masterdata$Pre_Month)\n",
        "\n"
      ],
      "metadata": {
        "id": "rvV0DW7k1BNv"
      },
      "execution_count": 9,
      "outputs": []
    },
    {
      "cell_type": "code",
      "source": [
        "# Response is our dependent variable and it is categorical\n",
        "head(masterdata)"
      ],
      "metadata": {
        "colab": {
          "base_uri": "https://localhost:8080/",
          "height": 286
        },
        "id": "IEXWaY8WydR8",
        "outputId": "d3848cac-db91-4bef-f971-6f2642a3a73f"
      },
      "execution_count": 66,
      "outputs": [
        {
          "output_type": "display_data",
          "data": {
            "text/html": [
              "<table class=\"dataframe\">\n",
              "<caption>A data.frame: 6 × 11</caption>\n",
              "<thead>\n",
              "\t<tr><th></th><th scope=col>Custid</th><th scope=col>Age</th><th scope=col>Gender</th><th scope=col>MS</th><th scope=col>Response</th><th scope=col>Pre_Month</th><th scope=col>N_Products</th><th scope=col>N_Service</th><th scope=col>BillAmt_1</th><th scope=col>BillAmt_2</th><th scope=col>BillAmt_3</th></tr>\n",
              "\t<tr><th></th><th scope=col>&lt;int&gt;</th><th scope=col>&lt;int&gt;</th><th scope=col>&lt;int&gt;</th><th scope=col>&lt;int&gt;</th><th scope=col>&lt;int&gt;</th><th scope=col>&lt;int&gt;</th><th scope=col>&lt;int&gt;</th><th scope=col>&lt;int&gt;</th><th scope=col>&lt;dbl&gt;</th><th scope=col>&lt;dbl&gt;</th><th scope=col>&lt;dbl&gt;</th></tr>\n",
              "</thead>\n",
              "<tbody>\n",
              "\t<tr><th scope=row>1</th><td>1</td><td>2</td><td>1</td><td>2</td><td>1</td><td>2</td><td>15</td><td>24</td><td>12.34</td><td>13.26</td><td>5.88</td></tr>\n",
              "\t<tr><th scope=row>2</th><td>2</td><td>2</td><td>2</td><td>1</td><td>0</td><td>1</td><td>22</td><td>29</td><td>18.65</td><td> 2.12</td><td>5.13</td></tr>\n",
              "\t<tr><th scope=row>3</th><td>3</td><td>1</td><td>1</td><td>2</td><td>0</td><td>1</td><td>17</td><td>21</td><td> 7.22</td><td> 3.31</td><td>3.65</td></tr>\n",
              "\t<tr><th scope=row>4</th><td>4</td><td>2</td><td>1</td><td>1</td><td>0</td><td>2</td><td>18</td><td>22</td><td> 6.15</td><td> 2.95</td><td>2.34</td></tr>\n",
              "\t<tr><th scope=row>5</th><td>5</td><td>2</td><td>2</td><td>1</td><td>0</td><td>1</td><td>31</td><td>35</td><td>20.64</td><td> 2.67</td><td>4.07</td></tr>\n",
              "\t<tr><th scope=row>6</th><td>6</td><td>1</td><td>2</td><td>1</td><td>0</td><td>2</td><td>28</td><td>31</td><td>12.44</td><td> 3.06</td><td>2.57</td></tr>\n",
              "</tbody>\n",
              "</table>\n"
            ],
            "text/markdown": "\nA data.frame: 6 × 11\n\n| <!--/--> | Custid &lt;int&gt; | Age &lt;int&gt; | Gender &lt;int&gt; | MS &lt;int&gt; | Response &lt;int&gt; | Pre_Month &lt;int&gt; | N_Products &lt;int&gt; | N_Service &lt;int&gt; | BillAmt_1 &lt;dbl&gt; | BillAmt_2 &lt;dbl&gt; | BillAmt_3 &lt;dbl&gt; |\n|---|---|---|---|---|---|---|---|---|---|---|---|\n| 1 | 1 | 2 | 1 | 2 | 1 | 2 | 15 | 24 | 12.34 | 13.26 | 5.88 |\n| 2 | 2 | 2 | 2 | 1 | 0 | 1 | 22 | 29 | 18.65 |  2.12 | 5.13 |\n| 3 | 3 | 1 | 1 | 2 | 0 | 1 | 17 | 21 |  7.22 |  3.31 | 3.65 |\n| 4 | 4 | 2 | 1 | 1 | 0 | 2 | 18 | 22 |  6.15 |  2.95 | 2.34 |\n| 5 | 5 | 2 | 2 | 1 | 0 | 1 | 31 | 35 | 20.64 |  2.67 | 4.07 |\n| 6 | 6 | 1 | 2 | 1 | 0 | 2 | 28 | 31 | 12.44 |  3.06 | 2.57 |\n\n",
            "text/latex": "A data.frame: 6 × 11\n\\begin{tabular}{r|lllllllllll}\n  & Custid & Age & Gender & MS & Response & Pre\\_Month & N\\_Products & N\\_Service & BillAmt\\_1 & BillAmt\\_2 & BillAmt\\_3\\\\\n  & <int> & <int> & <int> & <int> & <int> & <int> & <int> & <int> & <dbl> & <dbl> & <dbl>\\\\\n\\hline\n\t1 & 1 & 2 & 1 & 2 & 1 & 2 & 15 & 24 & 12.34 & 13.26 & 5.88\\\\\n\t2 & 2 & 2 & 2 & 1 & 0 & 1 & 22 & 29 & 18.65 &  2.12 & 5.13\\\\\n\t3 & 3 & 1 & 1 & 2 & 0 & 1 & 17 & 21 &  7.22 &  3.31 & 3.65\\\\\n\t4 & 4 & 2 & 1 & 1 & 0 & 2 & 18 & 22 &  6.15 &  2.95 & 2.34\\\\\n\t5 & 5 & 2 & 2 & 1 & 0 & 1 & 31 & 35 & 20.64 &  2.67 & 4.07\\\\\n\t6 & 6 & 1 & 2 & 1 & 0 & 2 & 28 & 31 & 12.44 &  3.06 & 2.57\\\\\n\\end{tabular}\n",
            "text/plain": [
              "  Custid Age Gender MS Response Pre_Month N_Products N_Service BillAmt_1\n",
              "1 1      2   1      2  1        2         15         24        12.34    \n",
              "2 2      2   2      1  0        1         22         29        18.65    \n",
              "3 3      1   1      2  0        1         17         21         7.22    \n",
              "4 4      2   1      1  0        2         18         22         6.15    \n",
              "5 5      2   2      1  0        1         31         35        20.64    \n",
              "6 6      1   2      1  0        2         28         31        12.44    \n",
              "  BillAmt_2 BillAmt_3\n",
              "1 13.26     5.88     \n",
              "2  2.12     5.13     \n",
              "3  3.31     3.65     \n",
              "4  2.95     2.34     \n",
              "5  2.67     4.07     \n",
              "6  3.06     2.57     "
            ]
          },
          "metadata": {}
        }
      ]
    },
    {
      "cell_type": "markdown",
      "source": [
        "###Check Campain response rate\n",
        "\n",
        "The CrossTable function from the gmodels package in R generates a contingency table, which is a useful tool for summarizing the frequency distribution of one or more categorical variables.\n",
        "\n",
        "`CrossTable(masterdata$Response)` creates a cross-tabulation of the `Response` variable, displaying the frequency counts and percentages of each unique value in the `Response` column.\n",
        "\n",
        "### Output:\n",
        "- The output will be a detailed table showing:\n",
        "    - The frequency (count) of each category in the `Response` column.\n",
        "    - The overall percentage of each category ( count of each category diveded by the total count)\n",
        "\n",
        "### Why Use This Code:\n",
        "1. **Descriptive Statistics**:\n",
        "    - Provides a quick summary of the distribution of responses. This is useful for understanding how many observations fall into each category of the `Response` variable.\n",
        "\n",
        "2. **Data Exploration**:\n",
        "    - Helps in the initial exploration of data to identify any imbalances or patterns in the categorical data.\n",
        "\n",
        "3. **Preparation for Analysis**:\n",
        "    - Useful in preparing for more complex analyses, such as chi-square tests, to determine if there are significant differences between categories.\n"
      ],
      "metadata": {
        "id": "sncLYMeB2KXq"
      }
    },
    {
      "cell_type": "code",
      "source": [
        "install.packages('gmodels', dependencies = TRUE, repos='http://cran.rstudio.com/')\n",
        "\n",
        "library(gmodels)\n",
        "CrossTable(masterdata$Response)\n",
        "\n",
        "# The second number is the first number divided by the total\n",
        "# We can see that the marketing campain did not go very well let's understand why"
      ],
      "metadata": {
        "colab": {
          "base_uri": "https://localhost:8080/"
        },
        "id": "i3PEgFKD2RH_",
        "outputId": "f4c982ab-c460-458d-bcde-3c6f9cfcd892"
      },
      "execution_count": 25,
      "outputs": [
        {
          "output_type": "stream",
          "name": "stdout",
          "text": [
            "\n",
            " \n",
            "   Cell Contents\n",
            "|-------------------------|\n",
            "|                       N |\n",
            "|         N / Table Total |\n",
            "|-------------------------|\n",
            "\n",
            " \n",
            "Total Observations in Table:  6990 \n",
            "\n",
            " \n",
            "          |         0 |         1 | \n",
            "          |-----------|-----------|\n",
            "          |      6065 |       925 | \n",
            "          |     0.868 |     0.132 | \n",
            "          |-----------|-----------|\n",
            "\n",
            "\n",
            "\n",
            " \n"
          ]
        }
      ]
    },
    {
      "cell_type": "markdown",
      "source": [
        "###Alternatevely: Visualize Campaign Response Rate"
      ],
      "metadata": {
        "id": "BdW1klIolpTL"
      }
    },
    {
      "cell_type": "code",
      "source": [
        "library(ggplot2)\n",
        "\n",
        "response<-data.frame(table(masterdata$Response))\n",
        "names(response)<-c(\"Response\",\"Count\")\n",
        "response$Perc<-paste(round((response$Count/sum(response$Count))*100,2),\"%\",sep = \"\")\n",
        "\n",
        "ggplot(response, aes(x = \"\", y = Count, fill = Response)) +\n",
        "  geom_col(color = \"black\") +\n",
        "  geom_text(aes(label = Perc),\n",
        "            position = position_stack(vjust = 0.5)) +\n",
        "  coord_polar(theta = \"y\") +\n",
        "  scale_fill_manual(values = c(\"#BE2A3E\", \"#3C8D53\"))+\n",
        "  theme_void()"
      ],
      "metadata": {
        "colab": {
          "base_uri": "https://localhost:8080/",
          "height": 437
        },
        "id": "Lifuo6iHl-ER",
        "outputId": "c879223b-49d9-4500-ce94-9a3c2dcfef1d"
      },
      "execution_count": 57,
      "outputs": [
        {
          "output_type": "display_data",
          "data": {
            "text/plain": [
              "plot without title"
            ],
            "image/png": "[encoded data removed]"
          },
          "metadata": {
            "image/png": {
              "width": 420,
              "height": 420
            }
          }
        }
      ]
    },
    {
      "cell_type": "markdown",
      "source": [
        "### Study the independent variables wrt the dependent variable\n",
        "\n",
        "Table of summary statistics for bill ampunt 1,2,3 by aggragate and dplyr.\n",
        "We want to see how bill amount affects the response"
      ],
      "metadata": {
        "id": "YeEKsCmu1iYN"
      }
    },
    {
      "cell_type": "code",
      "source": [
        "f <- function(x) {\n",
        "    c(count = length(x),\n",
        "    mean = mean(x),\n",
        "    median = median(x),\n",
        "    sd = sd(x))\n",
        "}\n",
        "\n",
        "summary_stats_BillAmt_1 <- aggregate(BillAmt_1 ~ Response, data=masterdata, FUN=f)\n",
        "summary_stats_BillAmt_1\n",
        "\n",
        "# Comment: Higher bill amounts in last 2 transactions are observed for customers with positive response"
      ],
      "metadata": {
        "colab": {
          "base_uri": "https://localhost:8080/",
          "height": 161
        },
        "id": "9hD66CiAywJ5",
        "outputId": "48ec599b-cc72-462d-94f8-6f839d0b4bda"
      },
      "execution_count": 14,
      "outputs": [
        {
          "output_type": "display_data",
          "data": {
            "text/html": [
              "<table class=\"dataframe\">\n",
              "<caption>A data.frame: 2 × 2</caption>\n",
              "<thead>\n",
              "\t<tr><th scope=col>Response</th><th scope=col>BillAmt_1</th></tr>\n",
              "\t<tr><th scope=col>&lt;int&gt;</th><th scope=col>&lt;dbl[,4]&gt;</th></tr>\n",
              "</thead>\n",
              "<tbody>\n",
              "\t<tr><td>0</td><td>6065, 12.34204, 10.77, 6.940059</td></tr>\n",
              "\t<tr><td>1</td><td> 925, 15.47364, 15.21, 6.677068</td></tr>\n",
              "</tbody>\n",
              "</table>\n"
            ],
            "text/markdown": "\nA data.frame: 2 × 2\n\n| Response &lt;int&gt; | BillAmt_1 &lt;dbl[,4]&gt; |\n|---|---|\n| 0 | 6065, 12.34204, 10.77, 6.940059 |\n| 1 |  925, 15.47364, 15.21, 6.677068 |\n\n",
            "text/latex": "A data.frame: 2 × 2\n\\begin{tabular}{ll}\n Response & BillAmt\\_1\\\\\n <int> & <dbl{[},4{]}>\\\\\n\\hline\n\t 0 & 6065, 12.34204, 10.77, 6.940059\\\\\n\t 1 &  925, 15.47364, 15.21, 6.677068\\\\\n\\end{tabular}\n",
            "text/plain": [
              "  Response BillAmt_1                      \n",
              "1 0        6065, 12.34204, 10.77, 6.940059\n",
              "2 1         925, 15.47364, 15.21, 6.677068"
            ]
          },
          "metadata": {}
        }
      ]
    },
    {
      "cell_type": "code",
      "source": [
        "library(dplyr)\n",
        "masterdata %>%\n",
        "  group_by(Response) %>%\n",
        "  summarise(n=length(BillAmt_1),\n",
        "    mean = mean(BillAmt_1),\n",
        "    median = median(BillAmt_1),\n",
        "    sd = sd(BillAmt_1)) %>%\n",
        "  as.data.frame()\n",
        "\n",
        "# Comment: Higher bill amounts in last 2 transactions are observed for customers with positive response"
      ],
      "metadata": {
        "colab": {
          "base_uri": "https://localhost:8080/",
          "height": 161
        },
        "id": "nZQ32zKX6EAF",
        "outputId": "fc6df73b-4e57-425f-daf6-dc8e9775a0d0"
      },
      "execution_count": 15,
      "outputs": [
        {
          "output_type": "display_data",
          "data": {
            "text/html": [
              "<table class=\"dataframe\">\n",
              "<caption>A data.frame: 2 × 5</caption>\n",
              "<thead>\n",
              "\t<tr><th scope=col>Response</th><th scope=col>n</th><th scope=col>mean</th><th scope=col>median</th><th scope=col>sd</th></tr>\n",
              "\t<tr><th scope=col>&lt;int&gt;</th><th scope=col>&lt;int&gt;</th><th scope=col>&lt;dbl&gt;</th><th scope=col>&lt;dbl&gt;</th><th scope=col>&lt;dbl&gt;</th></tr>\n",
              "</thead>\n",
              "<tbody>\n",
              "\t<tr><td>0</td><td>6065</td><td>12.34204</td><td>10.77</td><td>6.940059</td></tr>\n",
              "\t<tr><td>1</td><td> 925</td><td>15.47364</td><td>15.21</td><td>6.677068</td></tr>\n",
              "</tbody>\n",
              "</table>\n"
            ],
            "text/markdown": "\nA data.frame: 2 × 5\n\n| Response &lt;int&gt; | n &lt;int&gt; | mean &lt;dbl&gt; | median &lt;dbl&gt; | sd &lt;dbl&gt; |\n|---|---|---|---|---|\n| 0 | 6065 | 12.34204 | 10.77 | 6.940059 |\n| 1 |  925 | 15.47364 | 15.21 | 6.677068 |\n\n",
            "text/latex": "A data.frame: 2 × 5\n\\begin{tabular}{lllll}\n Response & n & mean & median & sd\\\\\n <int> & <int> & <dbl> & <dbl> & <dbl>\\\\\n\\hline\n\t 0 & 6065 & 12.34204 & 10.77 & 6.940059\\\\\n\t 1 &  925 & 15.47364 & 15.21 & 6.677068\\\\\n\\end{tabular}\n",
            "text/plain": [
              "  Response n    mean     median sd      \n",
              "1 0        6065 12.34204 10.77  6.940059\n",
              "2 1         925 15.47364 15.21  6.677068"
            ]
          },
          "metadata": {}
        }
      ]
    },
    {
      "cell_type": "code",
      "source": [
        "# Do the same for BillAmt_2, BillAmt_3"
      ],
      "metadata": {
        "id": "dPYqNZxH66eS"
      },
      "execution_count": 16,
      "outputs": []
    },
    {
      "cell_type": "markdown",
      "source": [
        "### Box plot of N_Products and N_Service by response"
      ],
      "metadata": {
        "id": "_f3lvrx67Lmz"
      }
    },
    {
      "cell_type": "code",
      "source": [
        "boxplot(N_Products~ Response, data = masterdata, col = \"lightblue\")\n",
        "# Customers that bought in the last year have an higher rate of response to the campaign\n",
        "#outliers are negligible"
      ],
      "metadata": {
        "colab": {
          "base_uri": "https://localhost:8080/",
          "height": 437
        },
        "id": "qq6gtyKc7LVD",
        "outputId": "00766091-4165-4d78-9604-fa3e3fc19b8c"
      },
      "execution_count": 19,
      "outputs": [
        {
          "output_type": "display_data",
          "data": {
            "text/plain": [
              "plot without title"
            ],
            "image/png": "[encoded data removed]"
          },
          "metadata": {
            "image/png": {
              "width": 420,
              "height": 420
            }
          }
        }
      ]
    },
    {
      "cell_type": "code",
      "source": [
        "boxplot(N_Service ~ Response, data = masterdata, col = \"lightblue\")\n",
        "#higher products and services are purchased by customers with positive response\n",
        "\n",
        "#outliers are negligible"
      ],
      "metadata": {
        "colab": {
          "base_uri": "https://localhost:8080/",
          "height": 437
        },
        "id": "_fKtMn3v7Ht5",
        "outputId": "b5e42303-f375-4c21-d067-a37c58fd1b47"
      },
      "execution_count": 21,
      "outputs": [
        {
          "output_type": "display_data",
          "data": {
            "text/plain": [
              "plot without title"
            ],
            "image/png": "[encoded data removed]"
          },
          "metadata": {
            "image/png": {
              "width": 420,
              "height": 420
            }
          }
        }
      ]
    },
    {
      "cell_type": "markdown",
      "source": [
        "###Crosstable of Gender by Response\n",
        "\n",
        "We can use a simple crosstable because gender is a categorical variable\n",
        "The `CrossTable` function from the `gmodels` package creates a contingency table that displays the relationship between the `Gender` and `Response` variables in the `masterdata` data frame. Let's break down what this code does:\n",
        "\n",
        "1. **`masterdata$Gender` and `masterdata$Response`**:\n",
        "    - These are the two categorical variables being compared. `Gender` is typically the predictor or row variable, and `Response` is the outcome or column variable.\n",
        "\n",
        "2. **`prop.r = TRUE`**:\n",
        "    - This argument specifies that the row proportions (percentages of the total in each row) should be included in the output. It shows the proportion of responses for each gender.\n",
        "\n",
        "3. **`prop.c = FALSE`**:\n",
        "    - This argument specifies that the column proportions (percentages of the total in each column) should not be included in the output.\n",
        "\n",
        "### Output:\n",
        "The output of this function call is a contingency table that includes:\n",
        "- **Frequency counts**: The number of occurrences for each combination of `Gender` and `Response`.\n",
        "- **Row proportions**: The proportion of each response within each gender (because `prop.r = TRUE`).\n",
        "- **Column proportions**: These are omitted because `prop.c = FALSE`.\n",
        "- **Overall proportions**: The proportion of the total for each cell, if provided by default.\n",
        "\n"
      ],
      "metadata": {
        "id": "COP2Vx4DqxV2"
      }
    },
    {
      "cell_type": "code",
      "source": [
        "library(gmodels)\n",
        "CrossTable(masterdata$Gender, masterdata$Response, prop.r = TRUE, prop.c = F)\n",
        "#We can see that 50% of the response comes from females and 50% from males"
      ],
      "metadata": {
        "colab": {
          "base_uri": "https://localhost:8080/"
        },
        "id": "euF2MLEe8XmV",
        "outputId": "a82e721c-6b63-41f0-8353-cf072f7bcd65"
      },
      "execution_count": 24,
      "outputs": [
        {
          "output_type": "stream",
          "name": "stderr",
          "text": [
            "Installing package into ‘/usr/local/lib/R/site-library’\n",
            "(as ‘lib’ is unspecified)\n",
            "\n",
            "also installing the dependencies ‘bitops’, ‘caTools’, ‘minqa’, ‘nloptr’, ‘Rcpp’, ‘RcppEigen’, ‘gdata’, ‘gplots’, ‘gtools’, ‘lme4’\n",
            "\n",
            "\n"
          ]
        },
        {
          "output_type": "stream",
          "name": "stdout",
          "text": [
            "\n",
            " \n",
            "   Cell Contents\n",
            "|-------------------------|\n",
            "|                       N |\n",
            "| Chi-square contribution |\n",
            "|           N / Row Total |\n",
            "|         N / Table Total |\n",
            "|-------------------------|\n",
            "\n",
            " \n",
            "Total Observations in Table:  6990 \n",
            "\n",
            " \n",
            "                  | masterdata$Gender \n",
            "masterdata$Gender |         1 |         2 | Row Total | \n",
            "------------------|-----------|-----------|-----------|\n",
            "                1 |      3502 |         0 |      3502 | \n",
            "                  |  1740.507 |  1747.493 |           | \n",
            "                  |     1.000 |     0.000 |     0.501 | \n",
            "                  |     0.501 |     0.000 |           | \n",
            "------------------|-----------|-----------|-----------|\n",
            "                2 |         0 |      3488 |      3488 | \n",
            "                  |  1747.493 |  1754.507 |           | \n",
            "                  |     0.000 |     1.000 |     0.499 | \n",
            "                  |     0.000 |     0.499 |           | \n",
            "------------------|-----------|-----------|-----------|\n",
            "     Column Total |      3502 |      3488 |      6990 | \n",
            "------------------|-----------|-----------|-----------|\n",
            "\n",
            " \n"
          ]
        }
      ]
    },
    {
      "cell_type": "markdown",
      "source": [
        "###Develop Campaign Response Model using Binary Logistic Regression\n"
      ],
      "metadata": {
        "id": "BVGw2G5k_dSh"
      }
    },
    {
      "cell_type": "markdown",
      "source": [
        "####Split original data into training and testing data sets"
      ],
      "metadata": {
        "id": "DUhPscWIshRq"
      }
    },
    {
      "cell_type": "code",
      "source": [
        "install.packages('caret', dependencies = TRUE, repos='http://cran.rstudio.com/')"
      ],
      "metadata": {
        "colab": {
          "base_uri": "https://localhost:8080/"
        },
        "id": "UN4EFnoAAXHp",
        "outputId": "6f52e196-15d9-46a1-a721-473b2fac2e0c"
      },
      "execution_count": 27,
      "outputs": [
        {
          "metadata": {
            "tags": null
          },
          "name": "stderr",
          "output_type": "stream",
          "text": [
            "Installing package into ‘/usr/local/lib/R/site-library’\n",
            "(as ‘lib’ is unspecified)\n",
            "\n",
            "also installing the dependencies ‘listenv’, ‘parallelly’, ‘future’, ‘globals’, ‘R.methodsS3’, ‘R.oo’, ‘R.utils’, ‘shape’, ‘future.apply’, ‘numDeriv’, ‘progressr’, ‘SQUAREM’, ‘httpuv’, ‘xtable’, ‘sourcetools’, ‘later’, ‘promises’, ‘R.cache’, ‘TH.data’, ‘profileModel’, ‘lazyeval’, ‘plotrix’, ‘diagram’, ‘lava’, ‘shiny’, ‘miniUI’, ‘styler’, ‘classInt’, ‘labelled’, ‘libcoin’, ‘matrixStats’, ‘multcomp’, ‘iterators’, ‘clock’, ‘gower’, ‘hardhat’, ‘timeDate’, ‘brglm’, ‘qvcalc’, ‘rex’, ‘Formula’, ‘plotmo’, ‘prodlim’, ‘combinat’, ‘questionr’, ‘ROCR’, ‘mvtnorm’, ‘modeltools’, ‘strucchange’, ‘coin’, ‘zoo’, ‘sandwich’, ‘ISwR’, ‘corpcor’, ‘ROSE’, ‘e1071’, ‘foreach’, ‘ModelMetrics’, ‘plyr’, ‘pROC’, ‘recipes’, ‘reshape2’, ‘BradleyTerry2’, ‘covr’, ‘Cubist’, ‘earth’, ‘ellipse’, ‘fastICA’, ‘gam’, ‘ipred’, ‘kernlab’, ‘klaR’, ‘mda’, ‘mlbench’, ‘MLmetrics’, ‘pamr’, ‘party’, ‘pls’, ‘proxy’, ‘randomForest’, ‘RANN’, ‘spls’, ‘subselect’, ‘superpc’, ‘themis’\n",
            "\n",
            "\n"
          ]
        }
      ]
    },
    {
      "cell_type": "code",
      "source": [
        "#we are gong to convert response as a factor because is a categorical variable\n",
        "#note that we are not using any seed so the values will be different alla the taime we run this cell\n",
        "\n",
        "library(caret)\n",
        "masterdata$Response<-as.factor(masterdata$Response)\n",
        "# using the function create data partition\n",
        "index<-createDataPartition(masterdata$Response,p=0.7,list=FALSE)\n",
        "traindata<-masterdata[index,]\n",
        "testdata<-masterdata[-index,]"
      ],
      "metadata": {
        "colab": {
          "base_uri": "https://localhost:8080/"
        },
        "id": "_QaLdZpv_hBY",
        "outputId": "139fe5aa-4af9-4608-ce2b-64c8931b9c79"
      },
      "execution_count": 28,
      "outputs": [
        {
          "output_type": "stream",
          "name": "stderr",
          "text": [
            "Loading required package: ggplot2\n",
            "\n",
            "Loading required package: lattice\n",
            "\n"
          ]
        }
      ]
    },
    {
      "cell_type": "markdown",
      "source": [
        "####Binary Logistic Regression using glm function"
      ],
      "metadata": {
        "id": "DRGHAZe5AdAV"
      }
    },
    {
      "cell_type": "code",
      "source": [
        "blr_model<-glm(Response~Age+Gender+MS+Pre_Month+N_Products+N_Service+BillAmt_1+BillAmt_2+BillAmt_3,data=traindata,family = binomial)"
      ],
      "metadata": {
        "id": "b5X0PxWaAcww"
      },
      "execution_count": 29,
      "outputs": []
    },
    {
      "cell_type": "markdown",
      "source": [
        "####Display parameter estimates with other model statistics"
      ],
      "metadata": {
        "id": "Rr-iGwPjuwic"
      }
    },
    {
      "cell_type": "code",
      "source": [
        "summary(blr_model)\n",
        "# Age is estimate to be negative meaning that the older the less the response"
      ],
      "metadata": {
        "colab": {
          "base_uri": "https://localhost:8080/",
          "height": 535
        },
        "id": "BS3oVB6zAl5u",
        "outputId": "8a7cb66e-8ab9-4b90-ad7a-13dff7bb72ad"
      },
      "execution_count": 30,
      "outputs": [
        {
          "output_type": "display_data",
          "data": {
            "text/plain": [
              "\n",
              "Call:\n",
              "glm(formula = Response ~ Age + Gender + MS + Pre_Month + N_Products + \n",
              "    N_Service + BillAmt_1 + BillAmt_2 + BillAmt_3, family = binomial, \n",
              "    data = traindata)\n",
              "\n",
              "Coefficients:\n",
              "             Estimate Std. Error z value Pr(>|z|)    \n",
              "(Intercept) -8.012321   0.406754 -19.698  < 2e-16 ***\n",
              "Age2        -0.066148   0.108912  -0.607 0.543616    \n",
              "Age3         0.085290   0.107611   0.793 0.428024    \n",
              "Gender2      0.076704   0.088546   0.866 0.386349    \n",
              "MS2         -0.091601   0.088511  -1.035 0.300707    \n",
              "Pre_Month2  -0.017997   0.088434  -0.204 0.838733    \n",
              "N_Products   0.150746   0.010623  14.191  < 2e-16 ***\n",
              "N_Service    0.040984   0.007983   5.134 2.84e-07 ***\n",
              "BillAmt_1    0.026505   0.007248   3.657 0.000255 ***\n",
              "BillAmt_2    0.197928   0.024742   8.000 1.25e-15 ***\n",
              "BillAmt_3    0.018535   0.018897   0.981 0.326663    \n",
              "---\n",
              "Signif. codes:  0 ‘***’ 0.001 ‘**’ 0.01 ‘*’ 0.05 ‘.’ 0.1 ‘ ’ 1\n",
              "\n",
              "(Dispersion parameter for binomial family taken to be 1)\n",
              "\n",
              "    Null deviance: 3826.5  on 4893  degrees of freedom\n",
              "Residual deviance: 3397.5  on 4883  degrees of freedom\n",
              "AIC: 3419.5\n",
              "\n",
              "Number of Fisher Scoring iterations: 6\n"
            ]
          },
          "metadata": {}
        }
      ]
    },
    {
      "cell_type": "markdown",
      "source": [
        "Comment: “Age”,“Gender”,“MS”,“Pre_Month” and “BillAmt_3” are the insignificant variables.\n",
        "Rerun the model after removing the insignificant variables"
      ],
      "metadata": {
        "id": "IcfwTUbPBCK_"
      }
    },
    {
      "cell_type": "markdown",
      "source": [
        "####Rerun the model after removing the insignificant variables"
      ],
      "metadata": {
        "id": "-Ns4UD7Evz4G"
      }
    },
    {
      "cell_type": "code",
      "source": [
        "blr_model<-glm(Response~N_Products+N_Service+BillAmt_1+BillAmt_2,data=traindata,family = binomial)\n",
        "summary(blr_model)"
      ],
      "metadata": {
        "colab": {
          "base_uri": "https://localhost:8080/",
          "height": 410
        },
        "id": "Lnh2zOGbBDmR",
        "outputId": "f3b3689e-fd28-41a0-fd41-3ff9b3ee207f"
      },
      "execution_count": 33,
      "outputs": [
        {
          "output_type": "display_data",
          "data": {
            "text/plain": [
              "\n",
              "Call:\n",
              "glm(formula = Response ~ N_Products + N_Service + BillAmt_1 + \n",
              "    BillAmt_2, family = binomial, data = traindata)\n",
              "\n",
              "Coefficients:\n",
              "             Estimate Std. Error z value Pr(>|z|)    \n",
              "(Intercept) -7.920685   0.381311 -20.772  < 2e-16 ***\n",
              "N_Products   0.148187   0.010273  14.425  < 2e-16 ***\n",
              "N_Service    0.039949   0.007898   5.058 4.23e-07 ***\n",
              "BillAmt_1    0.029552   0.006605   4.474 7.67e-06 ***\n",
              "BillAmt_2    0.206806   0.023141   8.937  < 2e-16 ***\n",
              "---\n",
              "Signif. codes:  0 ‘***’ 0.001 ‘**’ 0.01 ‘*’ 0.05 ‘.’ 0.1 ‘ ’ 1\n",
              "\n",
              "(Dispersion parameter for binomial family taken to be 1)\n",
              "\n",
              "    Null deviance: 3826.5  on 4893  degrees of freedom\n",
              "Residual deviance: 3402.3  on 4889  degrees of freedom\n",
              "AIC: 3412.3\n",
              "\n",
              "Number of Fisher Scoring iterations: 6\n"
            ]
          },
          "metadata": {}
        }
      ]
    },
    {
      "cell_type": "markdown",
      "source": [
        "Comment: The 4 significant purchase related variables have positive regression coefficients. Higher values are associated with positive campaign response."
      ],
      "metadata": {
        "id": "ou4M61yiv7Cg"
      }
    },
    {
      "cell_type": "markdown",
      "source": [
        "####Check for multicollinearity using vif function"
      ],
      "metadata": {
        "id": "A18Z0fQQv_DM"
      }
    },
    {
      "cell_type": "code",
      "source": [
        "install.packages('car', dependencies = TRUE, repos='http://cran.rstudio.com/')\n",
        "library(car)\n",
        "vif(blr_model)"
      ],
      "metadata": {
        "colab": {
          "base_uri": "https://localhost:8080/",
          "height": 88
        },
        "id": "fxIeke4ZETvg",
        "outputId": "e00bdbed-69c0-46fc-efd7-43b8d22f06b7"
      },
      "execution_count": 67,
      "outputs": [
        {
          "output_type": "stream",
          "name": "stderr",
          "text": [
            "Installing package into ‘/usr/local/lib/R/site-library’\n",
            "(as ‘lib’ is unspecified)\n",
            "\n"
          ]
        },
        {
          "output_type": "display_data",
          "data": {
            "text/html": [
              "<style>\n",
              ".dl-inline {width: auto; margin:0; padding: 0}\n",
              ".dl-inline>dt, .dl-inline>dd {float: none; width: auto; display: inline-block}\n",
              ".dl-inline>dt::after {content: \":\\0020\"; padding-right: .5ex}\n",
              ".dl-inline>dt:not(:first-of-type) {padding-left: .5ex}\n",
              "</style><dl class=dl-inline><dt>N_Products</dt><dd>1.40939625676831</dd><dt>N_Service</dt><dd>1.09316662583271</dd><dt>BillAmt_1</dt><dd>1.26910253770989</dd><dt>BillAmt_2</dt><dd>1.75365424311485</dd></dl>\n"
            ],
            "text/markdown": "N_Products\n:   1.40939625676831N_Service\n:   1.09316662583271BillAmt_1\n:   1.26910253770989BillAmt_2\n:   1.75365424311485\n\n",
            "text/latex": "\\begin{description*}\n\\item[N\\textbackslash{}\\_Products] 1.40939625676831\n\\item[N\\textbackslash{}\\_Service] 1.09316662583271\n\\item[BillAmt\\textbackslash{}\\_1] 1.26910253770989\n\\item[BillAmt\\textbackslash{}\\_2] 1.75365424311485\n\\end{description*}\n",
            "text/plain": [
              "N_Products  N_Service  BillAmt_1  BillAmt_2 \n",
              "  1.409396   1.093167   1.269103   1.753654 "
            ]
          },
          "metadata": {}
        }
      ]
    },
    {
      "cell_type": "markdown",
      "source": [
        "Even if is not required we are checking multicoll\n",
        "\n",
        "Comment: It is observed that no variable has high vif\n",
        "Hence the problem of multicollinearity does not exist"
      ],
      "metadata": {
        "id": "27ImHKd4u9h0"
      }
    },
    {
      "cell_type": "markdown",
      "source": [
        "####Evaluate model performance by ROC Curve using ROCR package (Training Set)"
      ],
      "metadata": {
        "id": "2THl4kw0FoTj"
      }
    },
    {
      "cell_type": "code",
      "source": [
        "library(ROCR)\n",
        "traindata$predprob<-fitted(blr_model)\n",
        "predtrain<-prediction(traindata$predprob,traindata$Response)\n",
        "perftrain<-performance(predtrain,\"tpr\",\"fpr\")\n",
        "plot(perftrain)\n",
        "abline(0,1)\n",
        "\n",
        "\n",
        "#we can see that the model is not performing so well from the plot because is looking a bit flat\n"
      ],
      "metadata": {
        "colab": {
          "base_uri": "https://localhost:8080/",
          "height": 437
        },
        "id": "v1B9wHm0Fpmy",
        "outputId": "39abe5d0-5c48-49ec-810b-5c040013d88a"
      },
      "execution_count": 36,
      "outputs": [
        {
          "output_type": "display_data",
          "data": {
            "text/plain": [
              "plot without title"
            ],
            "image/png": "[encoded data removed]"
          },
          "metadata": {
            "image/png": {
              "width": 420,
              "height": 420
            }
          }
        }
      ]
    },
    {
      "cell_type": "markdown",
      "source": [
        "####Evaluate model performance by ROC Curve using ROCR package (Testing Set)\n",
        "\n",
        "Let's break down each part of the code to understand what it does and the meaning of the `type` parameter in the `predict` function.\n",
        "\n",
        "### Code Explanation:\n",
        "\n",
        "1. **Predicting Probabilities:**\n",
        "   ```r\n",
        "   testdata$predprob <- predict(blr_model, testdata, type = 'response')\n",
        "   ```\n",
        "   - **`blr_model`**: This is your fitted logistic regression model.\n",
        "   - **`testdata`**: This is the data frame containing the test dataset for which predictions are being made.\n",
        "   - **`predict` function**: This function is used to make predictions based on the model.\n",
        "   - **`type = 'response'`**: This argument specifies that the output should be predicted probabilities of the response variable being 1 (or the positive class). In the context of logistic regression, this means the probabilities are obtained after applying the logistic function to the linear predictors.\n",
        "\n",
        "2. **Creating Prediction Object:**\n",
        "   ```r\n",
        "   predtest <- prediction(testdata$predprob, testdata$Response)\n",
        "   ```\n",
        "   - **`prediction` function**: From the `ROCR` package, this function creates a prediction object, which is required for performance evaluation.\n",
        "   - **`testdata$predprob`**: The predicted probabilities obtained from the `predict` function.\n",
        "   - **`testdata$Response`**: The actual response values (ground truth) from the test dataset.\n",
        "\n",
        "3. **Performance Evaluation:**\n",
        "   ```r\n",
        "   perftest <- performance(predtest, \"tpr\", \"fpr\")\n",
        "   ```\n",
        "   - **`performance` function**: Also from the `ROCR` package, this function evaluates the performance of the predictions.\n",
        "   - **`predtest`**: The prediction object created in the previous step.\n",
        "   - **`\"tpr\"` and `\"fpr\"`**: These arguments specify that the True Positive Rate (TPR, also known as sensitivity or recall) and the False Positive Rate (FPR) should be computed, respectively. These metrics are used to plot the ROC curve.\n",
        "\n",
        "4. **Plotting the ROC Curve:**\n",
        "   ```r\n",
        "   plot(perftest)\n",
        "   abline(0, 1)\n",
        "   ```\n",
        "   - **`plot(perftest)`**: This plots the ROC curve using the TPR and FPR values.\n",
        "   - **`abline(0, 1)`**: Adds a diagonal line to the plot. This line represents the performance of a random classifier. If the ROC curve is above this line, it indicates that the model performs better than random guessing.\n",
        "\n",
        "### Summary:\n",
        "\n",
        "- **`type = 'response'`** in the `predict` function indicates that the output should be the predicted probabilities for the positive class.\n",
        "- The ROC curve is then plotted to evaluate the model's performance in distinguishing between the positive and negative classes.\n"
      ],
      "metadata": {
        "id": "hroKNuPJxeu7"
      }
    },
    {
      "cell_type": "code",
      "source": [
        "testdata$predprob<-predict(blr_model,testdata,type='response')\n",
        "predtest<-prediction(testdata$predprob,testdata$Response)\n",
        "perftest<-performance(predtest,\"tpr\",\"fpr\")\n",
        "plot(perftest)\n",
        "abline(0,1)"
      ],
      "metadata": {
        "colab": {
          "base_uri": "https://localhost:8080/",
          "height": 437
        },
        "id": "NbiGqS9ZF41F",
        "outputId": "b8cf7dc1-57c1-4e3f-f130-d8b11bb7cf0d"
      },
      "execution_count": 40,
      "outputs": [
        {
          "output_type": "display_data",
          "data": {
            "text/plain": [
              "plot without title"
            ],
            "image/png": "[encoded data removed]"
          },
          "metadata": {
            "image/png": {
              "width": 420,
              "height": 420
            }
          }
        }
      ]
    },
    {
      "cell_type": "markdown",
      "source": [
        "####Checking area under the ROC curve"
      ],
      "metadata": {
        "id": "KroX_dPvyvif"
      }
    },
    {
      "cell_type": "code",
      "source": [
        "#Checking area under the ROC curve (they are comparable)\n",
        "auctrain<-performance(predtrain,\"auc\")\n",
        "auctrain@y.values\n",
        "auctest<-performance(predtest,\"auc\")\n",
        "auctest@y.values\n"
      ],
      "metadata": {
        "colab": {
          "base_uri": "https://localhost:8080/",
          "height": 94
        },
        "id": "ZoLAhcZkGkE6",
        "outputId": "50f1d921-c3aa-42fa-9cb0-5fbd2e637c37"
      },
      "execution_count": 38,
      "outputs": [
        {
          "output_type": "display_data",
          "data": {
            "text/html": [
              "<ol>\n",
              "\t<li>0.745947165960114</li>\n",
              "</ol>\n"
            ],
            "text/markdown": "1. 0.745947165960114\n\n\n",
            "text/latex": "\\begin{enumerate}\n\\item 0.745947165960114\n\\end{enumerate}\n",
            "text/plain": [
              "[[1]]\n",
              "[1] 0.7459472\n"
            ]
          },
          "metadata": {}
        },
        {
          "output_type": "display_data",
          "data": {
            "text/html": [
              "<ol>\n",
              "\t<li>0.746355656200199</li>\n",
              "</ol>\n"
            ],
            "text/markdown": "1. 0.746355656200199\n\n\n",
            "text/latex": "\\begin{enumerate}\n\\item 0.746355656200199\n\\end{enumerate}\n",
            "text/plain": [
              "[[1]]\n",
              "[1] 0.7463557\n"
            ]
          },
          "metadata": {}
        }
      ]
    },
    {
      "cell_type": "markdown",
      "source": [
        "### Model Validation: Holdout Method using confusionMatrix\n"
      ],
      "metadata": {
        "id": "b6R9fvFXIJPb"
      }
    },
    {
      "cell_type": "markdown",
      "source": [
        "####Finding optimum threshold for classification by maximizing sensitivity + specificity\n",
        "\n",
        "Let's break down this code step by step to understand what it does:\n",
        "\n",
        "1. **`sstrain <- performance(predtrain, \"sens\", \"spec\")`**:\n",
        "    - This line uses the `performance` function, likely from the `ROCR` package in R, which is commonly used for evaluating the performance of classification models.\n",
        "    - `predtrain` is the prediction object created by using the `prediction` function from the `ROCR` package, containing the predicted probabilities and true labels.\n",
        "    - The arguments `\"sens\"` and `\"spec\"` specify that the performance measure should include sensitivity (true positive rate) and specificity (true negative rate).\n",
        "\n",
        "2. **`best_threshold <- sstrain@alpha.values[[1]][which.max(sstrain@x.values[[1]]+sstrain@y.values[[1]])]`**:\n",
        "    - This line identifies the best threshold for classification based on the performance metrics.\n",
        "    - `sstrain@alpha.values[[1]]` contains the threshold values.\n",
        "    - `sstrain@x.values[[1]]` and `sstrain@y.values[[1]]` contain the sensitivity and specificity values, respectively.\n",
        "    - `which.max(sstrain@x.values[[1]] + sstrain@y.values[[1]])` computes the index of the threshold that maximizes the sum of sensitivity and specificity. This method attempts to find a balance between true positive rate and true negative rate.\n",
        "    - `sstrain@alpha.values[[1]][which.max(...)]` retrieves the threshold value at this optimal index.\n",
        "\n",
        "3. **`best_threshold`**:\n",
        "    - This variable stores the optimal threshold value that maximizes the sum of sensitivity and specificity.\n",
        "\n",
        "### Explanation in Context:\n",
        "\n",
        "- The `performance` function evaluates the sensitivity and specificity of the model across different threshold values.\n",
        "- The code then finds the threshold where the sum of sensitivity and specificity is maximized, aiming to balance the true positive and true negative rates.\n",
        "- The resulting `best_threshold` is the threshold value at which the model performs optimally according to this criterion.\n"
      ],
      "metadata": {
        "id": "vkA6XmUbze-D"
      }
    },
    {
      "cell_type": "code",
      "source": [
        "sstrain <- performance(predtrain, \"sens\", \"spec\") # first preparing the sens and spec\n",
        "best_threshold <- sstrain@alpha.values[[1]][which.max(sstrain@x.values[[1]]+sstrain@y.values[[1]])] #then we ta\n",
        "best_threshold\n"
      ],
      "metadata": {
        "colab": {
          "base_uri": "https://localhost:8080/",
          "height": 34
        },
        "id": "yZgbKvbhHAEu",
        "outputId": "7a2864a2-18c0-4b96-c303-babb80006f37"
      },
      "execution_count": 41,
      "outputs": [
        {
          "output_type": "display_data",
          "data": {
            "text/html": [
              "0.128015236915748"
            ],
            "text/markdown": "0.128015236915748",
            "text/latex": "0.128015236915748",
            "text/plain": [
              "[1] 0.1280152"
            ]
          },
          "metadata": {}
        }
      ]
    },
    {
      "cell_type": "markdown",
      "source": [
        "####Confusion matrix for train and test data"
      ],
      "metadata": {
        "id": "S6dEqEY3Ji4p"
      }
    },
    {
      "cell_type": "code",
      "source": [
        "# Train Data\n",
        "traindata$predY<-as.factor(ifelse(traindata$predprob>best_threshold,1,0))\n",
        "confusionMatrix(traindata$predY,traindata$Response,positive=\"1\")"
      ],
      "metadata": {
        "colab": {
          "base_uri": "https://localhost:8080/",
          "height": 499
        },
        "id": "-717gNaxIOZS",
        "outputId": "baf4062c-c89e-4326-a968-8db1af7dcab0"
      },
      "execution_count": 42,
      "outputs": [
        {
          "output_type": "display_data",
          "data": {
            "text/plain": [
              "Confusion Matrix and Statistics\n",
              "\n",
              "          Reference\n",
              "Prediction    0    1\n",
              "         0 2632  133\n",
              "         1 1614  515\n",
              "                                          \n",
              "               Accuracy : 0.643           \n",
              "                 95% CI : (0.6294, 0.6565)\n",
              "    No Information Rate : 0.8676          \n",
              "    P-Value [Acc > NIR] : 1               \n",
              "                                          \n",
              "                  Kappa : 0.2106          \n",
              "                                          \n",
              " Mcnemar's Test P-Value : <2e-16          \n",
              "                                          \n",
              "            Sensitivity : 0.7948          \n",
              "            Specificity : 0.6199          \n",
              "         Pos Pred Value : 0.2419          \n",
              "         Neg Pred Value : 0.9519          \n",
              "             Prevalence : 0.1324          \n",
              "         Detection Rate : 0.1052          \n",
              "   Detection Prevalence : 0.4350          \n",
              "      Balanced Accuracy : 0.7073          \n",
              "                                          \n",
              "       'Positive' Class : 1               \n",
              "                                          "
            ]
          },
          "metadata": {}
        }
      ]
    },
    {
      "cell_type": "code",
      "source": [
        "# Test Data\n",
        "testdata$predY<-as.factor(ifelse(testdata$predprob>best_threshold,1,0))\n",
        "confusionMatrix(testdata$predY,testdata$Response,positive=\"1\")"
      ],
      "metadata": {
        "colab": {
          "base_uri": "https://localhost:8080/",
          "height": 499
        },
        "id": "WehlORDqJWIW",
        "outputId": "8039304e-3bf7-4203-fd07-59e1cafc0074"
      },
      "execution_count": 68,
      "outputs": [
        {
          "output_type": "display_data",
          "data": {
            "text/plain": [
              "Confusion Matrix and Statistics\n",
              "\n",
              "          Reference\n",
              "Prediction    0    1\n",
              "         0 1159   63\n",
              "         1  660  214\n",
              "                                          \n",
              "               Accuracy : 0.6551          \n",
              "                 95% CI : (0.6343, 0.6754)\n",
              "    No Information Rate : 0.8678          \n",
              "    P-Value [Acc > NIR] : 1               \n",
              "                                          \n",
              "                  Kappa : 0.2141          \n",
              "                                          \n",
              " Mcnemar's Test P-Value : <2e-16          \n",
              "                                          \n",
              "            Sensitivity : 0.7726          \n",
              "            Specificity : 0.6372          \n",
              "         Pos Pred Value : 0.2449          \n",
              "         Neg Pred Value : 0.9484          \n",
              "             Prevalence : 0.1322          \n",
              "         Detection Rate : 0.1021          \n",
              "   Detection Prevalence : 0.4170          \n",
              "      Balanced Accuracy : 0.7049          \n",
              "                                          \n",
              "       'Positive' Class : 1               \n",
              "                                          "
            ]
          },
          "metadata": {}
        }
      ]
    },
    {
      "cell_type": "code",
      "source": [],
      "metadata": {
        "id": "wCjX2-P80Jrk"
      },
      "execution_count": null,
      "outputs": []
    }
  ]
}